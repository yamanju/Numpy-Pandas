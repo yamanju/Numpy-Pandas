{
  "cells": [
    {
      "cell_type": "markdown",
      "id": "95f61b17-f2e4-41cb-9318-8154c4cfba00",
      "metadata": {
        "id": "95f61b17-f2e4-41cb-9318-8154c4cfba00"
      },
      "source": [
        "# NumPy Assignment"
      ]
    },
    {
      "cell_type": "markdown",
      "id": "0b956e8b-c012-4b7d-9fe1-be68fe668606",
      "metadata": {
        "id": "0b956e8b-c012-4b7d-9fe1-be68fe668606"
      },
      "source": [
        "## Import the numpy package under the name as np & print the numpy version"
      ]
    },
    {
      "cell_type": "code",
      "execution_count": 59,
      "id": "668e8221",
      "metadata": {
        "colab": {
          "base_uri": "https://localhost:8080/",
          "height": 35
        },
        "id": "668e8221",
        "outputId": "33632ea1-1c14-43d2-d673-4018e2c2647f"
      },
      "outputs": [
        {
          "data": {
            "application/vnd.google.colaboratory.intrinsic+json": {
              "type": "string"
            },
            "text/plain": [
              "'1.22.4'"
            ]
          },
          "execution_count": 59,
          "metadata": {},
          "output_type": "execute_result"
        }
      ],
      "source": [
        "import numpy as np\n",
        "\n",
        "np.__version__"
      ]
    },
    {
      "cell_type": "markdown",
      "id": "8c171220-e212-4057-ad4c-e809ba8961fd",
      "metadata": {
        "id": "8c171220-e212-4057-ad4c-e809ba8961fd"
      },
      "source": [
        "## Create a null vector of size 10"
      ]
    },
    {
      "cell_type": "code",
      "execution_count": 60,
      "id": "107c7c3b",
      "metadata": {
        "colab": {
          "base_uri": "https://localhost:8080/"
        },
        "id": "107c7c3b",
        "outputId": "ad632cc1-d27a-4df7-a8d9-b6cdbd498ee4"
      },
      "outputs": [
        {
          "data": {
            "text/plain": [
              "array([0., 0., 0., 0., 0., 0., 0., 0., 0., 0.])"
            ]
          },
          "execution_count": 60,
          "metadata": {},
          "output_type": "execute_result"
        }
      ],
      "source": [
        "null_vector = np.zeros(10)\n",
        "null_vector"
      ]
    },
    {
      "cell_type": "markdown",
      "id": "2891b252-a1db-4ab4-a164-47c9cce9a271",
      "metadata": {
        "id": "2891b252-a1db-4ab4-a164-47c9cce9a271"
      },
      "source": [
        "## Create a null vector of size 10 but the fifth value which is 1"
      ]
    },
    {
      "cell_type": "code",
      "execution_count": 61,
      "id": "51e58682",
      "metadata": {
        "colab": {
          "base_uri": "https://localhost:8080/"
        },
        "id": "51e58682",
        "outputId": "dd29271c-bfb7-41a9-8fef-cb3e4fdb6f87"
      },
      "outputs": [
        {
          "data": {
            "text/plain": [
              "array([0., 0., 0., 0., 0., 1., 0., 0., 0., 0., 0.])"
            ]
          },
          "execution_count": 61,
          "metadata": {},
          "output_type": "execute_result"
        }
      ],
      "source": [
        "null_vector = np.zeros(11)\n",
        "null_vector[5] = 1\n",
        "null_vector"
      ]
    },
    {
      "cell_type": "markdown",
      "id": "491e5318-b216-48d8-8f35-82cd66594408",
      "metadata": {
        "id": "491e5318-b216-48d8-8f35-82cd66594408"
      },
      "source": [
        "## Create a vector with values ranging from 10 to 49"
      ]
    },
    {
      "cell_type": "code",
      "execution_count": 62,
      "id": "36253df9",
      "metadata": {
        "colab": {
          "base_uri": "https://localhost:8080/"
        },
        "id": "36253df9",
        "outputId": "daf577fc-0256-47b0-d873-156b31150eb8"
      },
      "outputs": [
        {
          "data": {
            "text/plain": [
              "array([10, 11, 12, 13, 14, 15, 16, 17, 18, 19, 20, 21, 22, 23, 24, 25, 26,\n",
              "       27, 28, 29, 30, 31, 32, 33, 34, 35, 36, 37, 38, 39, 40, 41, 42, 43,\n",
              "       44, 45, 46, 47, 48, 49])"
            ]
          },
          "execution_count": 62,
          "metadata": {},
          "output_type": "execute_result"
        }
      ],
      "source": [
        "vector = np.arange(10, 50)\n",
        "\n",
        "vector"
      ]
    },
    {
      "cell_type": "markdown",
      "id": "b7818669-03a5-4f61-b08f-b85b8dd94372",
      "metadata": {
        "id": "b7818669-03a5-4f61-b08f-b85b8dd94372"
      },
      "source": [
        "## Reverse a vector (first element becomes last)"
      ]
    },
    {
      "cell_type": "code",
      "execution_count": 63,
      "id": "027a4256",
      "metadata": {
        "colab": {
          "base_uri": "https://localhost:8080/"
        },
        "id": "027a4256",
        "outputId": "d98694a9-4059-4a7c-ebcc-c17020110d17"
      },
      "outputs": [
        {
          "data": {
            "text/plain": [
              "array([5, 4, 3, 2, 1])"
            ]
          },
          "execution_count": 63,
          "metadata": {},
          "output_type": "execute_result"
        }
      ],
      "source": [
        "vector = np.array([1, 2, 3, 4, 5])\n",
        "ters_vector = np.flip(vector)\n",
        "ters_vector\n"
      ]
    },
    {
      "cell_type": "markdown",
      "id": "5f4a94e4-596a-4c85-8356-7eb86d6cacbe",
      "metadata": {
        "id": "5f4a94e4-596a-4c85-8356-7eb86d6cacbe"
      },
      "source": [
        "## Create a 3x3 matrix with values ranging from 0 to 8"
      ]
    },
    {
      "cell_type": "code",
      "execution_count": 64,
      "id": "6bc73f48",
      "metadata": {
        "colab": {
          "base_uri": "https://localhost:8080/"
        },
        "id": "6bc73f48",
        "outputId": "2aa5a1ee-9d18-4262-8af3-020dd6f901ef"
      },
      "outputs": [
        {
          "data": {
            "text/plain": [
              "array([[0, 1, 2],\n",
              "       [3, 4, 5],\n",
              "       [6, 7, 8]])"
            ]
          },
          "execution_count": 64,
          "metadata": {},
          "output_type": "execute_result"
        }
      ],
      "source": [
        "matrix = np.arange(9).reshape((3, 3))\n",
        "matrix\n"
      ]
    },
    {
      "cell_type": "markdown",
      "id": "0df95fd1-f316-4976-849b-756f927f382c",
      "metadata": {
        "id": "0df95fd1-f316-4976-849b-756f927f382c"
      },
      "source": [
        "## Find indices of non­zero elements from [1,2,0,0,4,0]"
      ]
    },
    {
      "cell_type": "code",
      "execution_count": 65,
      "id": "95edf755",
      "metadata": {
        "colab": {
          "base_uri": "https://localhost:8080/"
        },
        "id": "95edf755",
        "outputId": "f6b3127f-d50b-4a27-fefc-381599546bb7"
      },
      "outputs": [
        {
          "data": {
            "text/plain": [
              "array([0, 1, 4])"
            ]
          },
          "execution_count": 65,
          "metadata": {},
          "output_type": "execute_result"
        }
      ],
      "source": [
        "arr = np.array([1, 2, 0, 0, 4, 0])\n",
        "nonzero_indices = np.nonzero(arr)\n",
        "nonzero_indices[0]"
      ]
    },
    {
      "cell_type": "markdown",
      "id": "efc45ac3-9297-4ea0-9fd8-8534c46935e4",
      "metadata": {
        "id": "efc45ac3-9297-4ea0-9fd8-8534c46935e4"
      },
      "source": [
        "## Create a 3x3 identity matrix\n",
        "Identity matrix, kare matrisler için özel bir türdür. Diagonalindeki tüm elemanlar 1, diğer elemanlar ise 0 olan kare matrisdir."
      ]
    },
    {
      "cell_type": "code",
      "execution_count": 66,
      "id": "bb3b3ade",
      "metadata": {
        "colab": {
          "base_uri": "https://localhost:8080/"
        },
        "id": "bb3b3ade",
        "outputId": "9ec06917-3bc5-403b-9092-0867ebcdbfd2"
      },
      "outputs": [
        {
          "name": "stdout",
          "output_type": "stream",
          "text": [
            "[[1. 0. 0.]\n",
            " [0. 1. 0.]\n",
            " [0. 0. 1.]]\n"
          ]
        }
      ],
      "source": [
        "identity_matrix = np.identity(3)\n",
        "print(identity_matrix)"
      ]
    },
    {
      "cell_type": "markdown",
      "id": "aa19488a-0613-48f3-8604-4499afe134e8",
      "metadata": {
        "id": "aa19488a-0613-48f3-8604-4499afe134e8"
      },
      "source": [
        "## Create a 3x3x3 array with random values\n",
        "\n",
        "---\n",
        "\n"
      ]
    },
    {
      "cell_type": "code",
      "execution_count": 67,
      "id": "0465ead9",
      "metadata": {
        "colab": {
          "base_uri": "https://localhost:8080/"
        },
        "id": "0465ead9",
        "outputId": "bb5c0c2d-ea76-4f16-f952-991e20117f83"
      },
      "outputs": [
        {
          "data": {
            "text/plain": [
              "array([[[0.60774196, 0.77134045, 0.83851087],\n",
              "        [0.34362024, 0.90788172, 0.46855583],\n",
              "        [0.22244635, 0.917335  , 0.1628757 ]],\n",
              "\n",
              "       [[0.07550715, 0.077679  , 0.73317963],\n",
              "        [0.94075598, 0.50065979, 0.98029448],\n",
              "        [0.63467703, 0.38583593, 0.79761064]],\n",
              "\n",
              "       [[0.13782551, 0.45507718, 0.54238122],\n",
              "        [0.92125778, 0.15652822, 0.7864987 ],\n",
              "        [0.39329412, 0.84930138, 0.95954867]]])"
            ]
          },
          "execution_count": 67,
          "metadata": {},
          "output_type": "execute_result"
        }
      ],
      "source": [
        "random_array = np.random.rand(3, 3, 3)\n",
        "random_array"
      ]
    },
    {
      "cell_type": "markdown",
      "id": "456bd772-149a-410a-9c86-04f1b19c6ae1",
      "metadata": {
        "id": "456bd772-149a-410a-9c86-04f1b19c6ae1"
      },
      "source": [
        "## Create a 10x10 array with random values and find the minimum and maximum values"
      ]
    },
    {
      "cell_type": "code",
      "execution_count": 68,
      "id": "ec01322d",
      "metadata": {
        "colab": {
          "base_uri": "https://localhost:8080/"
        },
        "id": "ec01322d",
        "outputId": "fe66c4d7-b458-4d19-f739-e152a55e0208"
      },
      "outputs": [
        {
          "data": {
            "text/plain": [
              "array([[0.71891462, 0.19429896, 0.78086122, 0.79332576, 0.79603806,\n",
              "        0.39078625, 0.7962984 , 0.7210208 , 0.28075541, 0.95565184],\n",
              "       [0.30546354, 0.2737673 , 0.78722062, 0.63881877, 0.49090951,\n",
              "        0.04288245, 0.97779081, 0.08436689, 0.92849984, 0.4560372 ],\n",
              "       [0.75946611, 0.19098863, 0.20359207, 0.95026856, 0.87365014,\n",
              "        0.47463875, 0.747064  , 0.54683911, 0.51708304, 0.01483618],\n",
              "       [0.95427264, 0.76987303, 0.64326893, 0.18179501, 0.12485485,\n",
              "        0.02325742, 0.72180599, 0.75548639, 0.43110112, 0.98096722],\n",
              "       [0.55836176, 0.68925429, 0.11754638, 0.07947748, 0.01382007,\n",
              "        0.57212973, 0.03899546, 0.51604246, 0.10472665, 0.37631198],\n",
              "       [0.20980956, 0.81214836, 0.86464038, 0.53660787, 0.52841103,\n",
              "        0.15755613, 0.61899435, 0.45729695, 0.25970167, 0.96614209],\n",
              "       [0.05744605, 0.67520868, 0.10125785, 0.04640832, 0.53816191,\n",
              "        0.0122516 , 0.82701642, 0.94537709, 0.19118694, 0.12477604],\n",
              "       [0.44690533, 0.53593496, 0.86333958, 0.91634432, 0.94128292,\n",
              "        0.75773577, 0.23471873, 0.87651569, 0.19148912, 0.25901766],\n",
              "       [0.75871824, 0.79820873, 0.43095576, 0.88761744, 0.14830695,\n",
              "        0.41106426, 0.7010288 , 0.56361746, 0.49198474, 0.87602861],\n",
              "       [0.10628878, 0.07342323, 0.04919479, 0.82398235, 0.33399111,\n",
              "        0.36489066, 0.66033416, 0.29699992, 0.31864374, 0.86968402]])"
            ]
          },
          "execution_count": 68,
          "metadata": {},
          "output_type": "execute_result"
        }
      ],
      "source": [
        "random_array = np.random.rand(10, 10)\n",
        "random_array"
      ]
    },
    {
      "cell_type": "markdown",
      "id": "8cbf0c5f-e2dd-4418-b923-a52bbda70b7e",
      "metadata": {
        "id": "8cbf0c5f-e2dd-4418-b923-a52bbda70b7e"
      },
      "source": [
        "## Create a random vector of size 30 and find the mean value"
      ]
    },
    {
      "cell_type": "code",
      "execution_count": 69,
      "id": "625f82b7",
      "metadata": {
        "colab": {
          "base_uri": "https://localhost:8080/"
        },
        "id": "625f82b7",
        "outputId": "e7b139ec-b67d-4ef7-a65c-d0e049f3aec3"
      },
      "outputs": [
        {
          "name": "stdout",
          "output_type": "stream",
          "text": [
            "[0.23744498 0.26639992 0.53025673 0.08718927 0.3594451  0.66309087\n",
            " 0.76178906 0.16838283 0.26220204 0.59066514 0.98213846 0.77863613\n",
            " 0.35613498 0.12453987 0.24686964 0.58647827 0.53392957 0.22388041\n",
            " 0.30556995 0.79438757 0.89283871 0.6910811  0.04793289 0.62060076\n",
            " 0.58767836 0.97714172 0.5171187  0.00809802 0.06680248 0.64641318]\n",
            "Ortalama Değer: 0.46383789123587355\n"
          ]
        }
      ],
      "source": [
        "random_vector = np.random.rand(30)\n",
        "mean_value = np.mean(random_vector)\n",
        "\n",
        "print(random_vector)\n",
        "print(\"Ortalama Değer:\", mean_value)"
      ]
    },
    {
      "cell_type": "markdown",
      "id": "7cc5ba2a-7b21-4c76-9d9c-cd84ecb98875",
      "metadata": {
        "id": "7cc5ba2a-7b21-4c76-9d9c-cd84ecb98875"
      },
      "source": [
        "## Create a 2d array with 1 on the border and 0 inside"
      ]
    },
    {
      "cell_type": "code",
      "execution_count": 70,
      "id": "4e984821",
      "metadata": {
        "colab": {
          "base_uri": "https://localhost:8080/"
        },
        "id": "4e984821",
        "outputId": "a4a8dd1f-8619-4b50-e370-32c9524e0672"
      },
      "outputs": [
        {
          "name": "stdout",
          "output_type": "stream",
          "text": [
            "[[1. 1. 1. 1. 1.]\n",
            " [1. 0. 0. 0. 1.]\n",
            " [1. 0. 0. 0. 1.]\n",
            " [1. 0. 0. 0. 1.]\n",
            " [1. 1. 1. 1. 1.]]\n"
          ]
        }
      ],
      "source": [
        "arr = np.zeros((5, 5))\n",
        "\n",
        "arr[0, :] = 1\n",
        "arr[-1, :] = 1\n",
        "arr[:, 0] = 1\n",
        "arr[:, -1] = 1\n",
        "\n",
        "print(arr)"
      ]
    },
    {
      "cell_type": "markdown",
      "id": "b0b05e7c-7eb0-486d-8b17-2a1f48b392a6",
      "metadata": {
        "id": "b0b05e7c-7eb0-486d-8b17-2a1f48b392a6"
      },
      "source": [
        "## Create a 5x5 matrix with values 1,2,3,4 just below the diagonal"
      ]
    },
    {
      "cell_type": "code",
      "execution_count": 71,
      "id": "15281c7d",
      "metadata": {
        "colab": {
          "base_uri": "https://localhost:8080/"
        },
        "id": "15281c7d",
        "outputId": "870a3aaa-626f-4778-82f1-cdcdb51f50f1"
      },
      "outputs": [
        {
          "data": {
            "text/plain": [
              "array([[0., 0., 0., 0., 0.],\n",
              "       [1., 0., 0., 0., 0.],\n",
              "       [0., 2., 0., 0., 0.],\n",
              "       [0., 0., 3., 0., 0.],\n",
              "       [0., 0., 0., 4., 0.]])"
            ]
          },
          "execution_count": 71,
          "metadata": {},
          "output_type": "execute_result"
        }
      ],
      "source": [
        "arr = np.zeros((5, 5))\n",
        "\n",
        "np.fill_diagonal(arr[1:], np.arange(1, 5))\n",
        "\n",
        "arr"
      ]
    },
    {
      "cell_type": "markdown",
      "id": "f22a8d4f-4061-46dc-96c5-f963eba56d40",
      "metadata": {
        "id": "f22a8d4f-4061-46dc-96c5-f963eba56d40"
      },
      "source": [
        "## Create a 8x8 matrix and fill it with a checkerboard pattern"
      ]
    },
    {
      "cell_type": "code",
      "execution_count": 72,
      "id": "160416ac",
      "metadata": {
        "colab": {
          "base_uri": "https://localhost:8080/"
        },
        "id": "160416ac",
        "outputId": "9d5e3bc9-496d-4958-94da-7be6cebed6fc"
      },
      "outputs": [
        {
          "name": "stdout",
          "output_type": "stream",
          "text": [
            "[[0 1 0 1 0 1 0 1]\n",
            " [1 0 1 0 1 0 1 0]\n",
            " [0 1 0 1 0 1 0 1]\n",
            " [1 0 1 0 1 0 1 0]\n",
            " [0 1 0 1 0 1 0 1]\n",
            " [1 0 1 0 1 0 1 0]\n",
            " [0 1 0 1 0 1 0 1]\n",
            " [1 0 1 0 1 0 1 0]]\n"
          ]
        }
      ],
      "source": [
        "matrix = np.zeros((8,8),dtype=int)\n",
        "\n",
        "matrix[1::2,::2] = 1\n",
        "matrix[::2,1::2] = 1\n",
        "\n",
        "print(matrix)"
      ]
    },
    {
      "cell_type": "markdown",
      "id": "b2c92c26-fa3b-4022-9c71-88a27064ba1b",
      "metadata": {
        "id": "b2c92c26-fa3b-4022-9c71-88a27064ba1b"
      },
      "source": [
        "## Create a checkerboard 8x8 matrix using the tile function"
      ]
    },
    {
      "cell_type": "code",
      "execution_count": 73,
      "id": "4efb7312",
      "metadata": {
        "colab": {
          "base_uri": "https://localhost:8080/"
        },
        "id": "4efb7312",
        "outputId": "9ce3bd3c-074b-42d4-e948-d7d4e91b7d0f"
      },
      "outputs": [
        {
          "name": "stdout",
          "output_type": "stream",
          "text": [
            "[[1 0 1 0 1 0 1 0]\n",
            " [0 1 0 1 0 1 0 1]\n",
            " [1 0 1 0 1 0 1 0]\n",
            " [0 1 0 1 0 1 0 1]\n",
            " [1 0 1 0 1 0 1 0]\n",
            " [0 1 0 1 0 1 0 1]\n",
            " [1 0 1 0 1 0 1 0]\n",
            " [0 1 0 1 0 1 0 1]]\n"
          ]
        }
      ],
      "source": [
        "sub_matrix = np.array([[1, 0], [0, 1]])\n",
        "\n",
        "matrix = np.tile(sub_matrix, (4, 4))\n",
        "\n",
        "print(matrix)\n"
      ]
    },
    {
      "cell_type": "markdown",
      "id": "7d1e507f-a32d-4ed4-9235-8c1c77b45e90",
      "metadata": {
        "id": "7d1e507f-a32d-4ed4-9235-8c1c77b45e90"
      },
      "source": [
        "## Consider a (6,7,8) shape array, what is the index (x,y,z) of the 100th element?"
      ]
    },
    {
      "cell_type": "code",
      "execution_count": 74,
      "id": "d12a2986",
      "metadata": {
        "colab": {
          "base_uri": "https://localhost:8080/"
        },
        "id": "d12a2986",
        "outputId": "613f1d95-b3c3-4c4d-8fd7-0182898c3892"
      },
      "outputs": [
        {
          "name": "stdout",
          "output_type": "stream",
          "text": [
            "Index of 100th element:  (1, 5, 4)\n"
          ]
        }
      ],
      "source": [
        "arr = np.random.rand(6, 7, 8)\n",
        "\n",
        "index_100 = np.unravel_index(100, arr.shape)\n",
        "\n",
        "print(\"Index of 100th element: \", index_100)"
      ]
    },
    {
      "cell_type": "markdown",
      "id": "dcdb4e96",
      "metadata": {
        "id": "dcdb4e96"
      },
      "source": [
        "## How can I create an array with dimensions (6, 7, 8) using arange, and find its last element?"
      ]
    },
    {
      "cell_type": "code",
      "execution_count": 75,
      "id": "844deeaf",
      "metadata": {
        "colab": {
          "base_uri": "https://localhost:8080/"
        },
        "id": "844deeaf",
        "outputId": "c8ac8df3-e131-4c52-d875-04446458dc4d"
      },
      "outputs": [
        {
          "name": "stdout",
          "output_type": "stream",
          "text": [
            "Last element of the array: 335\n"
          ]
        }
      ],
      "source": [
        "arr = np.arange(6*7*8).reshape((6, 7, 8))\n",
        "\n",
        "last_element = arr[-1, -1, -1]\n",
        "\n",
        "print(\"Last element of the array:\", last_element)"
      ]
    },
    {
      "cell_type": "markdown",
      "id": "b1854b8f-fa9e-492e-9d76-8ee86416e163",
      "metadata": {
        "id": "b1854b8f-fa9e-492e-9d76-8ee86416e163"
      },
      "source": [
        "## Given a one-dimensional array, make all elements between 3 and 8 inclusive negative."
      ]
    },
    {
      "cell_type": "code",
      "execution_count": 76,
      "id": "8dca3314",
      "metadata": {
        "colab": {
          "base_uri": "https://localhost:8080/"
        },
        "id": "8dca3314",
        "outputId": "b792b669-9e14-4156-c075-8bfeadaebaa3"
      },
      "outputs": [
        {
          "name": "stdout",
          "output_type": "stream",
          "text": [
            "[ 1 -5 -6 -7 -8  9  2 -4 -3]\n"
          ]
        }
      ],
      "source": [
        "arr = np.array([1, 5, 6, 7, 8, 9, 2, 4, 3])\n",
        "\n",
        "arr[(arr >= 3) & (arr <= 8)] *= -1\n",
        "\n",
        "print(arr)"
      ]
    },
    {
      "cell_type": "markdown",
      "id": "afc74cce-1589-434f-929e-d4f809eac34d",
      "metadata": {
        "id": "afc74cce-1589-434f-929e-d4f809eac34d"
      },
      "source": [
        "## Create a 5x5 matrix with row values ranging from 0 to 4"
      ]
    },
    {
      "cell_type": "code",
      "execution_count": 77,
      "id": "522397f4",
      "metadata": {
        "colab": {
          "base_uri": "https://localhost:8080/"
        },
        "id": "522397f4",
        "outputId": "f5e6bfe0-a4ac-4351-d7bf-4e72415799a6"
      },
      "outputs": [
        {
          "name": "stdout",
          "output_type": "stream",
          "text": [
            "[[0. 0. 0. 0. 0.]\n",
            " [1. 1. 1. 1. 1.]\n",
            " [2. 2. 2. 2. 2.]\n",
            " [3. 3. 3. 3. 3.]\n",
            " [4. 4. 4. 4. 4.]]\n"
          ]
        }
      ],
      "source": [
        "matrix = np.zeros((5, 5))\n",
        "for i in range(5):\n",
        "    matrix[i] = i\n",
        "    \n",
        "print(matrix)"
      ]
    },
    {
      "cell_type": "markdown",
      "id": "cbea287c-b2ef-4c94-b4bc-e047ee69abd1",
      "metadata": {
        "id": "cbea287c-b2ef-4c94-b4bc-e047ee69abd1"
      },
      "source": [
        "## Create a vector of size 12 with values ranging from 0 to 1, both excluded"
      ]
    },
    {
      "cell_type": "code",
      "execution_count": 78,
      "id": "b6caf3c4",
      "metadata": {
        "colab": {
          "base_uri": "https://localhost:8080/"
        },
        "id": "b6caf3c4",
        "outputId": "1e200426-b15f-4ff2-f09d-210db8576a60"
      },
      "outputs": [
        {
          "name": "stdout",
          "output_type": "stream",
          "text": [
            "[0.08333333 0.16666667 0.25       0.33333333 0.41666667 0.5\n",
            " 0.58333333 0.66666667 0.75       0.83333333 0.91666667]\n"
          ]
        }
      ],
      "source": [
        "vector = np.linspace(0, 1, num=12, endpoint=False)[1:]\n",
        "print(vector)"
      ]
    },
    {
      "cell_type": "markdown",
      "id": "1dc7d714-45a5-4bc7-a52e-37abe31bfb1f",
      "metadata": {
        "id": "1dc7d714-45a5-4bc7-a52e-37abe31bfb1f"
      },
      "source": [
        "## Create a random vector of size 10 and sort it"
      ]
    },
    {
      "cell_type": "code",
      "execution_count": 79,
      "id": "c0a59fbf",
      "metadata": {
        "colab": {
          "base_uri": "https://localhost:8080/"
        },
        "id": "c0a59fbf",
        "outputId": "bd23f650-a093-49dd-db3d-be4e4310b27e"
      },
      "outputs": [
        {
          "name": "stdout",
          "output_type": "stream",
          "text": [
            "[0.06622782 0.07823632 0.09714668 0.16315524 0.20991432 0.26694299\n",
            " 0.46017871 0.71473755 0.73132529 0.96531487]\n"
          ]
        }
      ],
      "source": [
        "v = np.random.rand(10)\n",
        "\n",
        "v_sorted = np.sort(v)\n",
        "\n",
        "print(v_sorted)"
      ]
    },
    {
      "cell_type": "markdown",
      "id": "0d58bab8-cab1-4318-9405-6e54a17ac346",
      "metadata": {
        "id": "0d58bab8-cab1-4318-9405-6e54a17ac346"
      },
      "source": [
        "## Consider two random array A anb B, check if they are equal"
      ]
    },
    {
      "cell_type": "code",
      "execution_count": 80,
      "id": "07d21f6d",
      "metadata": {
        "colab": {
          "base_uri": "https://localhost:8080/"
        },
        "id": "07d21f6d",
        "outputId": "dbeb6ffa-66d4-43c7-d2c9-6c5520cfe9ab"
      },
      "outputs": [
        {
          "name": "stdout",
          "output_type": "stream",
          "text": [
            "A ve B dizileri birbirine eşit değildir.\n"
          ]
        }
      ],
      "source": [
        "A = np.random.rand(3, 3)\n",
        "B = np.random.rand(3, 3)\n",
        "\n",
        "if np.array_equal(A, B):\n",
        "    print(\"A ve B dizileri birbirine eşittir.\")\n",
        "else:\n",
        "    print(\"A ve B dizileri birbirine eşit değildir.\")"
      ]
    },
    {
      "cell_type": "markdown",
      "id": "add060d3-6cca-47eb-8a48-2b9f33227130",
      "metadata": {
        "id": "add060d3-6cca-47eb-8a48-2b9f33227130"
      },
      "source": [
        "## Create random vector of size 10 and replace the maximum value by 0"
      ]
    },
    {
      "cell_type": "code",
      "execution_count": 81,
      "id": "6edc3993",
      "metadata": {
        "colab": {
          "base_uri": "https://localhost:8080/"
        },
        "id": "6edc3993",
        "outputId": "94199e3f-c84c-4e3f-92b5-66082157b922"
      },
      "outputs": [
        {
          "name": "stdout",
          "output_type": "stream",
          "text": [
            "Orjinal vector:\n",
            "[0.04089984 0.08300418 0.26691068 0.44636948 0.67219326 0.78777109\n",
            " 0.83343167 0.81615435 0.38753125 0.70577938]\n",
            "Modified vector:\n",
            "[0.04089984 0.08300418 0.26691068 0.44636948 0.67219326 0.78777109\n",
            " 0.         0.81615435 0.38753125 0.70577938]\n"
          ]
        }
      ],
      "source": [
        "vektör = np.random.rand(10)\n",
        "\n",
        "print(\"Orjinal vector:\")\n",
        "print(vektör)\n",
        "\n",
        "max_index = np.argmax(vektör)\n",
        "\n",
        "vektör[max_index] = 0\n",
        "\n",
        "print(\"Modified vector:\")\n",
        "print(vektör)"
      ]
    },
    {
      "cell_type": "markdown",
      "id": "874129d8-fe2e-41c7-aaa5-6e7578a8d6ad",
      "metadata": {
        "id": "874129d8-fe2e-41c7-aaa5-6e7578a8d6ad"
      },
      "source": [
        "## How to swap two rows of an array?"
      ]
    },
    {
      "cell_type": "code",
      "execution_count": 82,
      "id": "7ecab924",
      "metadata": {
        "colab": {
          "base_uri": "https://localhost:8080/"
        },
        "id": "7ecab924",
        "outputId": "4109e500-2280-430e-9ffc-4915fe550d19"
      },
      "outputs": [
        {
          "name": "stdout",
          "output_type": "stream",
          "text": [
            "Orjinal array:\n",
            "[[1 2 3]\n",
            " [4 5 6]\n",
            " [7 8 9]]\n",
            "last array:\n",
            "[[4 5 6]\n",
            " [1 2 3]\n",
            " [7 8 9]]\n"
          ]
        }
      ],
      "source": [
        "arr = np.array([[1, 2, 3],\n",
        "                [4, 5, 6],\n",
        "                [7, 8, 9]])\n",
        "\n",
        "print(\"Orjinal array:\")\n",
        "print(arr)\n",
        "\n",
        "arr[[0, 1], :] = arr[[1, 0], :]\n",
        "\n",
        "\n",
        "print(\"last array:\")\n",
        "print(arr)\n"
      ]
    },
    {
      "cell_type": "markdown",
      "id": "3d99138b-91e6-4d19-9195-1f384a68063b",
      "metadata": {
        "id": "3d99138b-91e6-4d19-9195-1f384a68063b"
      },
      "source": [
        "## How to find the most frequent value in an array?"
      ]
    },
    {
      "cell_type": "code",
      "execution_count": 83,
      "id": "19a6efab",
      "metadata": {
        "colab": {
          "base_uri": "https://localhost:8080/"
        },
        "id": "19a6efab",
        "outputId": "82d36b01-cfd7-4e89-af15-22e6ba334095"
      },
      "outputs": [
        {
          "name": "stdout",
          "output_type": "stream",
          "text": [
            "Dizideki en sık kullanılan değer: 7\n"
          ]
        }
      ],
      "source": [
        "arr = np.random.randint(0, 10, size=20)\n",
        "\n",
        "most_frequent_value = np.argmax(np.bincount(arr))\n",
        "\n",
        "print(\"Dizideki en sık kullanılan değer:\", most_frequent_value)\n"
      ]
    }
  ],
  "metadata": {
    "colab": {
      "provenance": []
    },
    "kernelspec": {
      "display_name": "Python 3 (ipykernel)",
      "language": "python",
      "name": "python3"
    },
    "language_info": {
      "codemirror_mode": {
        "name": "ipython",
        "version": 3
      },
      "file_extension": ".py",
      "mimetype": "text/x-python",
      "name": "python",
      "nbconvert_exporter": "python",
      "pygments_lexer": "ipython3",
      "version": "3.10.9"
    },
    "toc": {
      "base_numbering": 1,
      "nav_menu": {},
      "number_sections": true,
      "sideBar": true,
      "skip_h1_title": false,
      "title_cell": "Table of Contents",
      "title_sidebar": "Contents",
      "toc_cell": false,
      "toc_position": {},
      "toc_section_display": true,
      "toc_window_display": true
    },
    "varInspector": {
      "cols": {
        "lenName": 16,
        "lenType": 16,
        "lenVar": 40
      },
      "kernels_config": {
        "python": {
          "delete_cmd_postfix": "",
          "delete_cmd_prefix": "del ",
          "library": "var_list.py",
          "varRefreshCmd": "print(var_dic_list())"
        },
        "r": {
          "delete_cmd_postfix": ") ",
          "delete_cmd_prefix": "rm(",
          "library": "var_list.r",
          "varRefreshCmd": "cat(var_dic_list()) "
        }
      },
      "types_to_exclude": [
        "module",
        "function",
        "builtin_function_or_method",
        "instance",
        "_Feature"
      ],
      "window_display": false
    }
  },
  "nbformat": 4,
  "nbformat_minor": 5
}
